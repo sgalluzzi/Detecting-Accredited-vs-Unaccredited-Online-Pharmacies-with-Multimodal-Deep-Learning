{
 "cells": [
  {
   "cell_type": "markdown",
   "id": "670c11ee-6b90-46d1-9ced-52aa70694cd5",
   "metadata": {},
   "source": [
    "### Text Pre-Processing for Feature-Based Training\n",
    "- BERT (Bidirectional Encoder Representations from Transformers)\n",
    "- BERT makes use of a Transformer, an attention mechanism that learns contextual relations between words (or sub-words) in a text\n",
    "- Transformer includes two separate mechanisms — an encoder that reads the text input and a decoder that produces a prediction for the task. \n",
    "- Since BERT’s goal is to generate a language model, only the encoder mechanism is necessary\n",
    "- the Transformer encoder reads the entire sequence of words at once\n",
    "\n",
    "- Resources: \n",
    "    - https://keras.io/examples/nlp/text_extraction_with_bert/#preprocess-the-data\n",
    "    - https://collab.its.virginia.edu/access/lessonbuilder/item/2079372/group/25e8dc9b-3e66-4249-ae38-3a124dead1e4/Module%207:%20Seque_%2010_12%20-%2010_18/7.5%20%20Video%20+%20Qu_%20and%20Attention/M7.5_%20NLP%20with%20Attention,%20Transformers,%20and%20BERT.pdf"
   ]
  },
  {
   "attachments": {
    "8aa7a389-5aeb-485d-9884-f0761f6097af.png": {
     "image/png": "[encoded data removed]"
    }
   },
   "cell_type": "markdown",
   "id": "5aee9305-3b87-4663-975f-a7e79423476a",
   "metadata": {},
   "source": [
    "![image.png](attachment:8aa7a389-5aeb-485d-9884-f0761f6097af.png)\n",
    "\n",
    "Two-Phase training:\n",
    "\n",
    "1.) Pretrain to understand language\n",
    "\n",
    "2.) Finetume to learn a specific task\n"
   ]
  },
  {
   "cell_type": "code",
   "execution_count": null,
   "id": "6273de33-2c48-471e-a200-5723de88a7a4",
   "metadata": {},
   "outputs": [],
   "source": [
    "#load dataset, tokenizer, model from pretrained model/vocab\n"
   ]
  },
  {
   "cell_type": "markdown",
   "id": "7d22dcd7-006b-4a1a-9a49-9ead31bfa87c",
   "metadata": {},
   "source": [
    "### Setup"
   ]
  },
  {
   "cell_type": "code",
   "execution_count": 21,
   "id": "36737adc-0dcc-41e1-8af8-cf90855ee0a3",
   "metadata": {},
   "outputs": [],
   "source": [
    "#import libraries\n",
    "from tokenizers import Tokenizer\n",
    "import pandas as pd\n",
    "import numpy as np\n",
    "import os\n",
    "import re\n",
    "import json\n",
    "import string\n",
    "import tensorflow as tf\n",
    "from tensorflow.keras import layers\n",
    "from tokenizers import BertWordPieceTokenizer\n",
    "from transformers import BertTokenizer, TFBertModel, BertConfig\n",
    "import random\n",
    "from sklearn.model_selection import train_test_split\n",
    "\n",
    "# to make this notebook's output stable across runs\n",
    "np.random.seed(42)\n",
    "tf.random.set_seed(42)"
   ]
  },
  {
   "cell_type": "code",
   "execution_count": 5,
   "id": "fe558d68-f3e6-4ed4-9767-97395dad3d53",
   "metadata": {},
   "outputs": [],
   "source": [
    "configuration = BertConfig()  # default parameters and configuration for BERT\n",
    "max_len = 384"
   ]
  },
  {
   "cell_type": "markdown",
   "id": "1065ef30-a69c-4acf-93b7-b23f24780ebc",
   "metadata": {},
   "source": [
    "### Setup BERT tokenizer"
   ]
  },
  {
   "cell_type": "code",
   "execution_count": 9,
   "id": "dd74af84-34c6-4744-8b6e-4ed1a18dfd45",
   "metadata": {},
   "outputs": [
    {
     "data": {
      "text/plain": [
       "('bert_base_uncased/tokenizer_config.json',\n",
       " 'bert_base_uncased/special_tokens_map.json',\n",
       " 'bert_base_uncased/vocab.txt',\n",
       " 'bert_base_uncased/added_tokens.json')"
      ]
     },
     "execution_count": 9,
     "metadata": {},
     "output_type": "execute_result"
    }
   ],
   "source": [
    "# Save the slow pretrained tokenizer\n",
    "slow_tokenizer = BertTokenizer.from_pretrained(\"bert-base-uncased\")\n",
    "save_path = \"bert_base_uncased/\"\n",
    "if not os.path.exists(save_path):\n",
    "    os.makedirs(save_path)\n",
    "slow_tokenizer.save_pretrained(save_path)"
   ]
  },
  {
   "cell_type": "code",
   "execution_count": 10,
   "id": "43af5d8e-93cb-4b45-bd5b-4173a1a306cc",
   "metadata": {},
   "outputs": [],
   "source": [
    "# Load the fast tokenizer from saved file\n",
    "tokenizer = BertWordPieceTokenizer(\"bert_base_uncased/vocab.txt\", lowercase=True)"
   ]
  },
  {
   "cell_type": "markdown",
   "id": "0dfa03e3-6cdb-4646-82e3-d24ef04d4d2a",
   "metadata": {},
   "source": [
    "### Load Data & Split into Test, Train, Validate"
   ]
  },
  {
   "cell_type": "code",
   "execution_count": 34,
   "id": "c7eb8d53-c5d1-4ae2-b68e-1a927d225f5e",
   "metadata": {},
   "outputs": [],
   "source": [
    "#import data\n",
    "data = pd.read_csv('pharmacy_dataset_reduced.csv')\n",
    "#data.head()\n",
    "#len(data)"
   ]
  },
  {
   "cell_type": "code",
   "execution_count": 81,
   "id": "6282b42a-3123-443c-b159-15ec99d7d65c",
   "metadata": {},
   "outputs": [],
   "source": [
    "#Split the dataset into train, val, test\n",
    "\n",
    "# to make this notebook's output stable across runs\n",
    "np.random.seed(42)\n",
    "tf.random.set_seed(42)\n",
    "\n",
    "#shuffle dataset for fair test/train split\n",
    "#split train into 50% of data, test into 1/2 of remaining 50% (25%), and validate remaining 25%\n",
    "train, test, validate = np.split(data.sample(frac=1), [int(.5*len(data)), int(.75*len(data))])\n",
    "#len(train)\n",
    "#len(validate)\n",
    "#len(test)"
   ]
  },
  {
   "cell_type": "markdown",
   "id": "c1f58c01-44da-4405-9421-9d5d951ac58f",
   "metadata": {},
   "source": [
    "### Preprocess Data"
   ]
  },
  {
   "cell_type": "code",
   "execution_count": null,
   "id": "ff52afc0-d3ba-4686-8f89-954f9e257f1e",
   "metadata": {},
   "outputs": [],
   "source": []
  },
  {
   "cell_type": "code",
   "execution_count": null,
   "id": "b239d70d-045d-4172-97b7-35515f18aa0f",
   "metadata": {},
   "outputs": [],
   "source": []
  },
  {
   "cell_type": "code",
   "execution_count": null,
   "id": "62e29270-386b-4a2e-856c-7b29d35ceaf6",
   "metadata": {},
   "outputs": [],
   "source": []
  }
 ],
 "metadata": {
  "kernelspec": {
   "display_name": "Python 3 (ipykernel)",
   "language": "python",
   "name": "python3"
  },
  "language_info": {
   "codemirror_mode": {
    "name": "ipython",
    "version": 3
   },
   "file_extension": ".py",
   "mimetype": "text/x-python",
   "name": "python",
   "nbconvert_exporter": "python",
   "pygments_lexer": "ipython3",
   "version": "3.9.7"
  }
 },
 "nbformat": 4,
 "nbformat_minor": 5
}
